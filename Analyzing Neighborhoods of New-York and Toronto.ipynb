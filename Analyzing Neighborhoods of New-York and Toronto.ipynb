{
    "cells": [
        {
            "cell_type": "markdown",
            "metadata": {},
            "source": "<h1 align=center><font size = 5>Analyzing Neighborhoods of New York City and Toronto</font></h1>\n"
        },
        {
            "cell_type": "markdown",
            "metadata": {},
            "source": "## Objective"
        },
        {
            "cell_type": "markdown",
            "metadata": {},
            "source": "Identifying a business problem that requires the use of location data and neighborhood clustering.  \nSelecting a dataset that we will analyze to solve the business problem identified in the scenario."
        },
        {
            "cell_type": "markdown",
            "metadata": {},
            "source": "## Table of Contents  \n\n   **1. Introduction/Background**    \n\n   **2. Business Problem**     \n\n   **3. Target Audience/Stakeholders**     \n\n   **4. Data Description**      \n\n   **5. Foursquare API Data / Techstack/Framework**        \n   "
        },
        {
            "cell_type": "markdown",
            "metadata": {},
            "source": "## Introduction"
        },
        {
            "cell_type": "markdown",
            "metadata": {},
            "source": "### Background\n\nNew York or NYC for short, is the most populous city in the United States. New York City is also the most densely populated major city in the United States. New York City has been described as the cultural, financial, and media capital of the world, significantly influencing commerce,entertainment, research, technology, education, politics, tourism, art, fashion, and sports.\n\nToronto is the capital city of the Canadian province of Ontario. it is the most populous city in Canada and the fourth most populous city in North America. Toronto is an international centre of business, finance, arts, and culture, and is recognized as one of the most multicultural and cosmopolitan cities in the world.\n\nWe try to group the neighbourhoods of New-York City and Toronto respectively and draw insights to determine how similar or dissimilar they are."
        },
        {
            "cell_type": "markdown",
            "metadata": {},
            "source": "## Business Problem"
        },
        {
            "cell_type": "markdown",
            "metadata": {},
            "source": "The aim is to help tourists choose their destinations depending on the experiences that the neighbourhoods have to offer and what they would want to have. This also helps people make decisions if they are thinking about migrating to New York City or Toronto or even if they want to relocate neighbourhoods within the city. Our findings will help stakeholders make informed decisions and address any concerns they have including the different kinds of cuisines, provision stores and what the city has to offer."
        },
        {
            "cell_type": "markdown",
            "metadata": {},
            "source": "## Target Audience / Stakeholders"
        },
        {
            "cell_type": "markdown",
            "metadata": {},
            "source": "Help tourists to choose their destinations/Venues.    \nHelps Business personnel to know which are the best places to invest or to do business.  \nHelps people make decisions if they are thinking about migrating/relocating neighbourhoods within the city.  \nHelps stakeholders make informed decisions and address any concerns they have including the different kinds of cuisines, provision stores and what the city has to offer.  "
        },
        {
            "cell_type": "markdown",
            "metadata": {},
            "source": "## Data Description"
        },
        {
            "cell_type": "markdown",
            "metadata": {},
            "source": "We require geolocation data for both New York City and Toronto.We use Geographical Location data using Geocoder Package\nData Source: https://cocl.us/Geospatial_data\n\nThis project aims to leverage venue data from Foursquare\u2019s \u2018Places API\u2019Venue Data using Foursquare API\nData Source: https://foursquare.com/developers/apps\n\nMachine learning algorithm called \u2018k-means clustering\u2019 to identify \u2018New York City\u2019 and Toronto neighborhoods.  "
        },
        {
            "cell_type": "markdown",
            "metadata": {},
            "source": "### New York City"
        },
        {
            "cell_type": "markdown",
            "metadata": {},
            "source": "**Data Source and Description**  \n\nThe \"New York City Neighborhood Names\" dataset hosted by NYU\u2019s Spatial Data Repository forms as the basis for the neighborhood names and associated location centroids.\n\nTo derive our solution, we leverage same json data available at \"Skills Network Lab\" , https://cf-courses-data.s3.us.cloud-object-storage.appdomain.cloud/IBMDeveloperSkillsNetwork-DS0701EN-SkillsNetwork/labs/newyork_data.json.\n\nThe dataset available was easy to download as a JSON file and import into a Jupyter Notebook:\nThis datset has information about Borough, Neighbourhoods, Latitude, Longitude etc.\n\nThe \u2018Borough\u2019, \u2018Neighborhood\u2019, \u2018Latitude\u2019, and \u2018Longitude\u2019 values associated with each neighborhood were then converted from JSON to a Pandas DataFrame that serves as the foundation of the analysis."
        },
        {
            "cell_type": "markdown",
            "metadata": {},
            "source": "## Toronto"
        },
        {
            "cell_type": "markdown",
            "metadata": {},
            "source": "**Data Source and Description**\n\nPostal codes of Canada available at wikipedia page serve as a starting point. Using Postal codes we can find out the neighbourhoods, boroughs, venues and their most popular venue categories.\n\nTo derive our solution, we scrape our data from wikipedia https://en.wikipedia.org/wiki/List_of_postal_codes_of_Canada:_M. This wikipedia page has information about all the neighbourhoods, we limit it to Toronto.\n\nThis datset has information about Postal Code,Borough, Neighbourhoods etc.\n\nUsing BeautifulSoup the data is preprocessed and then converted to a Pandas Dataframe that serves as the foundation of the analysis."
        },
        {
            "cell_type": "markdown",
            "metadata": {},
            "source": "## Foursquare API Data"
        },
        {
            "cell_type": "markdown",
            "metadata": {},
            "source": "We will need data about different venues in different neighbourhoods of that specific borough. In order to gain that information we will use \"Foursquare\" locational information. Foursquare is a location data provider with information about venues and events within an area of interest. Such information includes venue names, locations, menus and even photos. As such, the foursquare location platform will be used as the sole data source since all the stated required information can be obtained through the API.\n\nThe data retrieved from Foursquare contained information of venues within a specified distance of the longitude and latitude of the postcodes.\nThe information obtained per venue are as follows:  \n\nNeighbourhood : Name of the Neighbourhood  \nNeighbourhood Latitude : Latitude of the Neighbourhood  \nNeighbourhood Longitude : Longitude of the Neighbourhood  \nVenue : Name of the Venue  \nVenue Latitude : Latitude of Venue  \nVenue Longitude : Longitude of Venue  \nVenue Category : Category of Venue  \n\nBased on the information collected for both New York City and Toronto, we have sufficient data to build our model. We cluster the neighbourhoods together based on similar venue categories. We then present our observations and findings. Using this data, our stakeholders can take the necessary decision."
        },
        {
            "cell_type": "markdown",
            "metadata": {},
            "source": "## TechStack/framework Required\n\nMachine Learning Algorithm    \nWeb Scraping  \nFoursquare API  \nGeocoder  \nPython / Pandas Dataframe  \nBeautiful Soup  \nFolium  "
        }
    ],
    "metadata": {
        "kernelspec": {
            "display_name": "Python 3.7",
            "language": "python",
            "name": "python3"
        },
        "language_info": {
            "codemirror_mode": {
                "name": "ipython",
                "version": 3
            },
            "file_extension": ".py",
            "mimetype": "text/x-python",
            "name": "python",
            "nbconvert_exporter": "python",
            "pygments_lexer": "ipython3",
            "version": "3.7.10"
        },
        "widgets": {
            "state": {},
            "version": "1.1.2"
        }
    },
    "nbformat": 4,
    "nbformat_minor": 2
}